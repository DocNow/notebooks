{
 "cells": [
  {
   "cell_type": "markdown",
   "metadata": {},
   "source": [
    "# Exploring the Twitter trends API\n",
    "\n",
    "In this notebook we'll take a quick look at the section of the [Twitter Rest API](https://dev.twitter.com/rest/public) that deals with trending terms:\n",
    "\n",
    "* [GET trends/available](https://dev.twitter.com/rest/reference/get/trends/available)\n",
    "* [GET trends/place](https://dev.twitter.com/rest/reference/get/trends/place)\n",
    "* [GET trends/closest](https://dev.twitter.com/rest/reference/get/trends/closest)\n",
    "\n",
    "We'll work with the [Tweepy library's support for these](http://docs.tweepy.org/en/v3.5.0/api.html#trends-methods), explore the calls, and sketch out some possibilities."
   ]
  },
  {
   "cell_type": "markdown",
   "metadata": {},
   "source": [
    "## Setup\n",
    "\n",
    "First some library imports and user key setup.  This assumes you've arranged for the necessary app keys [at apps.twitter.com](https://apps.twitter.com/).  "
   ]
  },
  {
   "cell_type": "code",
   "execution_count": 74,
   "metadata": {
    "collapsed": true
   },
   "outputs": [],
   "source": [
    "from collections import Counter\n",
    "import os\n",
    "from pprint import pprint\n",
    "import tweepy"
   ]
  },
  {
   "cell_type": "code",
   "execution_count": 58,
   "metadata": {
    "collapsed": false
   },
   "outputs": [],
   "source": [
    "c_key = os.environ['CONSUMER_KEY']\n",
    "c_secret = os.environ['CONSUMER_SECRET']\n",
    "a_token = os.environ['ACCESS_TOKEN']\n",
    "a_token_secret = os.environ['ACCESS_TOKEN_SECRET']\n",
    "\n",
    "auth = tweepy.OAuthHandler(c_key, c_secret)\n",
    "auth.set_access_token(a_token, a_token_secret)\n",
    "\n",
    "api = tweepy.API(auth)"
   ]
  },
  {
   "cell_type": "markdown",
   "metadata": {},
   "source": [
    "## Basic calls\n",
    "\n",
    "The first call `trends/available` returns a set of locations, each with its own set of parameters."
   ]
  },
  {
   "cell_type": "code",
   "execution_count": 59,
   "metadata": {
    "collapsed": true
   },
   "outputs": [],
   "source": [
    "trends_available = api.trends_available()"
   ]
  },
  {
   "cell_type": "code",
   "execution_count": 60,
   "metadata": {
    "collapsed": false
   },
   "outputs": [
    {
     "data": {
      "text/plain": [
       "467"
      ]
     },
     "execution_count": 60,
     "metadata": {},
     "output_type": "execute_result"
    }
   ],
   "source": [
    "len(trends_available)"
   ]
  },
  {
   "cell_type": "code",
   "execution_count": 61,
   "metadata": {
    "collapsed": false
   },
   "outputs": [
    {
     "data": {
      "text/plain": [
       "[{'country': '',\n",
       "  'countryCode': None,\n",
       "  'name': 'Worldwide',\n",
       "  'parentid': 0,\n",
       "  'placeType': {'code': 19, 'name': 'Supername'},\n",
       "  'url': 'http://where.yahooapis.com/v1/place/1',\n",
       "  'woeid': 1},\n",
       " {'country': 'Canada',\n",
       "  'countryCode': 'CA',\n",
       "  'name': 'Winnipeg',\n",
       "  'parentid': 23424775,\n",
       "  'placeType': {'code': 7, 'name': 'Town'},\n",
       "  'url': 'http://where.yahooapis.com/v1/place/2972',\n",
       "  'woeid': 2972},\n",
       " {'country': 'Canada',\n",
       "  'countryCode': 'CA',\n",
       "  'name': 'Ottawa',\n",
       "  'parentid': 23424775,\n",
       "  'placeType': {'code': 7, 'name': 'Town'},\n",
       "  'url': 'http://where.yahooapis.com/v1/place/3369',\n",
       "  'woeid': 3369}]"
      ]
     },
     "execution_count": 61,
     "metadata": {},
     "output_type": "execute_result"
    }
   ],
   "source": [
    "trends_available[0:3]"
   ]
  },
  {
   "cell_type": "markdown",
   "metadata": {},
   "source": [
    "We see from this (and from their docs) that Twitter uses [Yahoo WOEIDs](https://developer.yahoo.com/geo/geoplanet/) to define place names.  How they arrived at this list of 467 places is not clear.  It's a mix of countries and cities, at least:"
   ]
  },
  {
   "cell_type": "code",
   "execution_count": 62,
   "metadata": {
    "collapsed": false
   },
   "outputs": [
    {
     "data": {
      "text/plain": [
       "['Abu Dhabi',\n",
       " 'Acapulco',\n",
       " 'Accra',\n",
       " 'Adana',\n",
       " 'Adelaide',\n",
       " 'Aguascalientes',\n",
       " 'Ahmedabad',\n",
       " 'Ahsa',\n",
       " 'Albuquerque',\n",
       " 'Alexandria',\n",
       " 'Algeria',\n",
       " 'Algiers',\n",
       " 'Amman',\n",
       " 'Amritsar',\n",
       " 'Amsterdam',\n",
       " 'Ankara',\n",
       " 'Ansan',\n",
       " 'Antalya',\n",
       " 'Antipolo',\n",
       " 'Argentina',\n",
       " 'Athens',\n",
       " 'Atlanta',\n",
       " 'Auckland',\n",
       " 'Austin',\n",
       " 'Australia']"
      ]
     },
     "execution_count": 62,
     "metadata": {},
     "output_type": "execute_result"
    }
   ],
   "source": [
    "sorted([t['name'] for t in trends_available])[:25]"
   ]
  },
  {
   "cell_type": "markdown",
   "metadata": {},
   "source": [
    "Hmm, let's see exactly what classification levels they have in this set:"
   ]
  },
  {
   "cell_type": "code",
   "execution_count": 76,
   "metadata": {
    "collapsed": false
   },
   "outputs": [],
   "source": [
    "c = Counter([t['placeType']['name'] for t in trends_available])"
   ]
  },
  {
   "cell_type": "code",
   "execution_count": 77,
   "metadata": {
    "collapsed": false
   },
   "outputs": [
    {
     "data": {
      "text/plain": [
       "Counter({'Country': 62, 'Supername': 1, 'Town': 402, 'Unknown': 2})"
      ]
     },
     "execution_count": 77,
     "metadata": {},
     "output_type": "execute_result"
    }
   ],
   "source": [
    "c"
   ]
  },
  {
   "cell_type": "markdown",
   "metadata": {},
   "source": [
    "`'Unknown'`??"
   ]
  },
  {
   "cell_type": "code",
   "execution_count": 78,
   "metadata": {
    "collapsed": true
   },
   "outputs": [],
   "source": [
    "unk = [t for t in trends_available if t['placeType']['name'] == 'Unknown']"
   ]
  },
  {
   "cell_type": "code",
   "execution_count": 79,
   "metadata": {
    "collapsed": false
   },
   "outputs": [
    {
     "data": {
      "text/plain": [
       "[{'country': 'South Africa',\n",
       "  'countryCode': 'ZA',\n",
       "  'name': 'Soweto',\n",
       "  'parentid': 23424942,\n",
       "  'placeType': {'code': 22, 'name': 'Unknown'},\n",
       "  'url': 'http://where.yahooapis.com/v1/place/1587677',\n",
       "  'woeid': 1587677},\n",
       " {'country': 'Saudi Arabia',\n",
       "  'countryCode': 'SA',\n",
       "  'name': 'Ahsa',\n",
       "  'parentid': 23424938,\n",
       "  'placeType': {'code': 9, 'name': 'Unknown'},\n",
       "  'url': 'http://where.yahooapis.com/v1/place/56120136',\n",
       "  'woeid': 56120136}]"
      ]
     },
     "execution_count": 79,
     "metadata": {},
     "output_type": "execute_result"
    }
   ],
   "source": [
    "unk"
   ]
  },
  {
   "cell_type": "markdown",
   "metadata": {},
   "source": [
    "Ah, Soweto is a township, not a city, and [Al Ahsa](https://en.wikipedia.org/wiki/Al-Hasa) is a region.\n",
    "\n",
    "Moving along, we can dig into specifc places one at a time:"
   ]
  },
  {
   "cell_type": "code",
   "execution_count": 8,
   "metadata": {
    "collapsed": false
   },
   "outputs": [],
   "source": [
    "ams = [t for t in trends_available if t['name'] == 'Amsterdam'][0]"
   ]
  },
  {
   "cell_type": "code",
   "execution_count": 64,
   "metadata": {
    "collapsed": false
   },
   "outputs": [
    {
     "data": {
      "text/plain": [
       "{'country': 'Netherlands',\n",
       " 'countryCode': 'NL',\n",
       " 'name': 'Amsterdam',\n",
       " 'parentid': 23424909,\n",
       " 'placeType': {'code': 7, 'name': 'Town'},\n",
       " 'url': 'http://where.yahooapis.com/v1/place/727232',\n",
       " 'woeid': 727232}"
      ]
     },
     "execution_count": 64,
     "metadata": {},
     "output_type": "execute_result"
    }
   ],
   "source": [
    "ams"
   ]
  },
  {
   "cell_type": "code",
   "execution_count": 63,
   "metadata": {
    "collapsed": true
   },
   "outputs": [],
   "source": [
    "trends_ams = api.trends_place(ams['woeid'])"
   ]
  },
  {
   "cell_type": "code",
   "execution_count": 65,
   "metadata": {
    "collapsed": false
   },
   "outputs": [
    {
     "data": {
      "text/plain": [
       "[{'as_of': '2016-10-17T18:47:54Z',\n",
       "  'created_at': '2016-10-17T18:45:27Z',\n",
       "  'locations': [{'name': 'Amsterdam', 'woeid': 727232}],\n",
       "  'trends': [{'name': '#ShoutoutToMyEx',\n",
       "    'promoted_content': None,\n",
       "    'query': '%23ShoutoutToMyEx',\n",
       "    'tweet_volume': 442950,\n",
       "    'url': 'http://twitter.com/search?q=%23ShoutoutToMyEx'},\n",
       "   {'name': '#singleparents',\n",
       "    'promoted_content': None,\n",
       "    'query': '%23singleparents',\n",
       "    'tweet_volume': None,\n",
       "    'url': 'http://twitter.com/search?q=%23singleparents'},\n",
       "   {'name': '#Mosul',\n",
       "    'promoted_content': None,\n",
       "    'query': '%23Mosul',\n",
       "    'tweet_volume': 69119,\n",
       "    'url': 'http://twitter.com/search?q=%23Mosul'},\n",
       "   {'name': '#dating',\n",
       "    'promoted_content': None,\n",
       "    'query': '%23dating',\n",
       "    'tweet_volume': 14363,\n",
       "    'url': 'http://twitter.com/search?q=%23dating'},\n",
       "   {'name': '#STOICON16',\n",
       "    'promoted_content': None,\n",
       "    'query': '%23STOICON16',\n",
       "    'tweet_volume': None,\n",
       "    'url': 'http://twitter.com/search?q=%23STOICON16'},\n",
       "   {'name': 'Find Her',\n",
       "    'promoted_content': None,\n",
       "    'query': '%22Find+Her%22',\n",
       "    'tweet_volume': None,\n",
       "    'url': 'http://twitter.com/search?q=%22Find+Her%22'},\n",
       "   {'name': 'Cristiano Ronaldo',\n",
       "    'promoted_content': None,\n",
       "    'query': '%22Cristiano+Ronaldo%22',\n",
       "    'tweet_volume': 15817,\n",
       "    'url': 'http://twitter.com/search?q=%22Cristiano+Ronaldo%22'},\n",
       "   {'name': 'Hans Klok',\n",
       "    'promoted_content': None,\n",
       "    'query': '%22Hans+Klok%22',\n",
       "    'tweet_volume': None,\n",
       "    'url': 'http://twitter.com/search?q=%22Hans+Klok%22'},\n",
       "   {'name': 'Pierre Bokma',\n",
       "    'promoted_content': None,\n",
       "    'query': '%22Pierre+Bokma%22',\n",
       "    'tweet_volume': None,\n",
       "    'url': 'http://twitter.com/search?q=%22Pierre+Bokma%22'},\n",
       "   {'name': 'Felix Rottenberg',\n",
       "    'promoted_content': None,\n",
       "    'query': '%22Felix+Rottenberg%22',\n",
       "    'tweet_volume': None,\n",
       "    'url': 'http://twitter.com/search?q=%22Felix+Rottenberg%22'},\n",
       "   {'name': 'Renate Groenewold',\n",
       "    'promoted_content': None,\n",
       "    'query': '%22Renate+Groenewold%22',\n",
       "    'tweet_volume': None,\n",
       "    'url': 'http://twitter.com/search?q=%22Renate+Groenewold%22'},\n",
       "   {'name': 'Kookboek',\n",
       "    'promoted_content': None,\n",
       "    'query': 'Kookboek',\n",
       "    'tweet_volume': None,\n",
       "    'url': 'http://twitter.com/search?q=Kookboek'},\n",
       "   {'name': 'VfL Wolfsburg',\n",
       "    'promoted_content': None,\n",
       "    'query': '%22VfL+Wolfsburg%22',\n",
       "    'tweet_volume': None,\n",
       "    'url': 'http://twitter.com/search?q=%22VfL+Wolfsburg%22'},\n",
       "   {'name': 'Artis',\n",
       "    'promoted_content': None,\n",
       "    'query': 'Artis',\n",
       "    'tweet_volume': 10527,\n",
       "    'url': 'http://twitter.com/search?q=Artis'},\n",
       "   {'name': 'Staat',\n",
       "    'promoted_content': None,\n",
       "    'query': 'Staat',\n",
       "    'tweet_volume': None,\n",
       "    'url': 'http://twitter.com/search?q=Staat'},\n",
       "   {'name': 'Lubach',\n",
       "    'promoted_content': None,\n",
       "    'query': 'Lubach',\n",
       "    'tweet_volume': None,\n",
       "    'url': 'http://twitter.com/search?q=Lubach'},\n",
       "   {'name': 'West',\n",
       "    'promoted_content': None,\n",
       "    'query': 'West',\n",
       "    'tweet_volume': 221194,\n",
       "    'url': 'http://twitter.com/search?q=West'},\n",
       "   {'name': 'Amsterdam',\n",
       "    'promoted_content': None,\n",
       "    'query': 'Amsterdam',\n",
       "    'tweet_volume': 31724,\n",
       "    'url': 'http://twitter.com/search?q=Amsterdam'},\n",
       "   {'name': '#jajgra',\n",
       "    'promoted_content': None,\n",
       "    'query': '%23jajgra',\n",
       "    'tweet_volume': None,\n",
       "    'url': 'http://twitter.com/search?q=%23jajgra'},\n",
       "   {'name': '#Hunted',\n",
       "    'promoted_content': None,\n",
       "    'query': '%23Hunted',\n",
       "    'tweet_volume': None,\n",
       "    'url': 'http://twitter.com/search?q=%23Hunted'},\n",
       "   {'name': '#Asscher',\n",
       "    'promoted_content': None,\n",
       "    'query': '%23Asscher',\n",
       "    'tweet_volume': None,\n",
       "    'url': 'http://twitter.com/search?q=%23Asscher'},\n",
       "   {'name': '#feyado',\n",
       "    'promoted_content': None,\n",
       "    'query': '%23feyado',\n",
       "    'tweet_volume': None,\n",
       "    'url': 'http://twitter.com/search?q=%23feyado'},\n",
       "   {'name': '#JOANNE',\n",
       "    'promoted_content': None,\n",
       "    'query': '%23JOANNE',\n",
       "    'tweet_volume': 119376,\n",
       "    'url': 'http://twitter.com/search?q=%23JOANNE'},\n",
       "   {'name': '#LIVMUN',\n",
       "    'promoted_content': None,\n",
       "    'query': '%23LIVMUN',\n",
       "    'tweet_volume': 52370,\n",
       "    'url': 'http://twitter.com/search?q=%23LIVMUN'},\n",
       "   {'name': '#eenvandaag',\n",
       "    'promoted_content': None,\n",
       "    'query': '%23eenvandaag',\n",
       "    'tweet_volume': None,\n",
       "    'url': 'http://twitter.com/search?q=%23eenvandaag'},\n",
       "   {'name': '#didd',\n",
       "    'promoted_content': None,\n",
       "    'query': '%23didd',\n",
       "    'tweet_volume': None,\n",
       "    'url': 'http://twitter.com/search?q=%23didd'},\n",
       "   {'name': '#camhee',\n",
       "    'promoted_content': None,\n",
       "    'query': '%23camhee',\n",
       "    'tweet_volume': None,\n",
       "    'url': 'http://twitter.com/search?q=%23camhee'},\n",
       "   {'name': '#gtst',\n",
       "    'promoted_content': None,\n",
       "    'query': '%23gtst',\n",
       "    'tweet_volume': None,\n",
       "    'url': 'http://twitter.com/search?q=%23gtst'},\n",
       "   {'name': '#NACpraat',\n",
       "    'promoted_content': None,\n",
       "    'query': '%23NACpraat',\n",
       "    'tweet_volume': None,\n",
       "    'url': 'http://twitter.com/search?q=%23NACpraat'},\n",
       "   {'name': '#DPSEPSC',\n",
       "    'promoted_content': None,\n",
       "    'query': '%23DPSEPSC',\n",
       "    'tweet_volume': None,\n",
       "    'url': 'http://twitter.com/search?q=%23DPSEPSC'},\n",
       "   {'name': '#LFCvMUFC',\n",
       "    'promoted_content': None,\n",
       "    'query': '%23LFCvMUFC',\n",
       "    'tweet_volume': 39619,\n",
       "    'url': 'http://twitter.com/search?q=%23LFCvMUFC'},\n",
       "   {'name': '#ThingsISayPrettyOften',\n",
       "    'promoted_content': None,\n",
       "    'query': '%23ThingsISayPrettyOften',\n",
       "    'tweet_volume': 71493,\n",
       "    'url': 'http://twitter.com/search?q=%23ThingsISayPrettyOften'},\n",
       "   {'name': '#TEDxMaastricht',\n",
       "    'promoted_content': None,\n",
       "    'query': '%23TEDxMaastricht',\n",
       "    'tweet_volume': None,\n",
       "    'url': 'http://twitter.com/search?q=%23TEDxMaastricht'},\n",
       "   {'name': '#twezwo',\n",
       "    'promoted_content': None,\n",
       "    'query': '%23twezwo',\n",
       "    'tweet_volume': None,\n",
       "    'url': 'http://twitter.com/search?q=%23twezwo'},\n",
       "   {'name': '#StudioVoetbal',\n",
       "    'promoted_content': None,\n",
       "    'query': '%23StudioVoetbal',\n",
       "    'tweet_volume': None,\n",
       "    'url': 'http://twitter.com/search?q=%23StudioVoetbal'},\n",
       "   {'name': '#dumpertmeuk',\n",
       "    'promoted_content': None,\n",
       "    'query': '%23dumpertmeuk',\n",
       "    'tweet_volume': None,\n",
       "    'url': 'http://twitter.com/search?q=%23dumpertmeuk'},\n",
       "   {'name': '#wereldarmoededag',\n",
       "    'promoted_content': None,\n",
       "    'query': '%23wereldarmoededag',\n",
       "    'tweet_volume': None,\n",
       "    'url': 'http://twitter.com/search?q=%23wereldarmoededag'},\n",
       "   {'name': '#PerrieExposedZaynParty',\n",
       "    'promoted_content': None,\n",
       "    'query': '%23PerrieExposedZaynParty',\n",
       "    'tweet_volume': 92932,\n",
       "    'url': 'http://twitter.com/search?q=%23PerrieExposedZaynParty'},\n",
       "   {'name': '#mondaymotivation',\n",
       "    'promoted_content': None,\n",
       "    'query': '%23mondaymotivation',\n",
       "    'tweet_volume': 148775,\n",
       "    'url': 'http://twitter.com/search?q=%23mondaymotivation'},\n",
       "   {'name': '#TCSAM16',\n",
       "    'promoted_content': None,\n",
       "    'query': '%23TCSAM16',\n",
       "    'tweet_volume': None,\n",
       "    'url': 'http://twitter.com/search?q=%23TCSAM16'},\n",
       "   {'name': '#WorldFoodDay',\n",
       "    'promoted_content': None,\n",
       "    'query': '%23WorldFoodDay',\n",
       "    'tweet_volume': 13674,\n",
       "    'url': 'http://twitter.com/search?q=%23WorldFoodDay'},\n",
       "   {'name': '#BASF',\n",
       "    'promoted_content': None,\n",
       "    'query': '%23BASF',\n",
       "    'tweet_volume': 10802,\n",
       "    'url': 'http://twitter.com/search?q=%23BASF'},\n",
       "   {'name': '#WFD2016',\n",
       "    'promoted_content': None,\n",
       "    'query': '%23WFD2016',\n",
       "    'tweet_volume': None,\n",
       "    'url': 'http://twitter.com/search?q=%23WFD2016'},\n",
       "   {'name': '#Hoorn',\n",
       "    'promoted_content': None,\n",
       "    'query': '%23Hoorn',\n",
       "    'tweet_volume': None,\n",
       "    'url': 'http://twitter.com/search?q=%23Hoorn'},\n",
       "   {'name': '#droomlandamerika',\n",
       "    'promoted_content': None,\n",
       "    'query': '%23droomlandamerika',\n",
       "    'tweet_volume': None,\n",
       "    'url': 'http://twitter.com/search?q=%23droomlandamerika'},\n",
       "   {'name': '#omarmprijs',\n",
       "    'promoted_content': None,\n",
       "    'query': '%23omarmprijs',\n",
       "    'tweet_volume': None,\n",
       "    'url': 'http://twitter.com/search?q=%23omarmprijs'}]}]"
      ]
     },
     "execution_count": 65,
     "metadata": {},
     "output_type": "execute_result"
    }
   ],
   "source": [
    "trends_ams"
   ]
  },
  {
   "cell_type": "code",
   "execution_count": 68,
   "metadata": {
    "collapsed": false
   },
   "outputs": [
    {
     "data": {
      "text/plain": [
       "[{'name': '#ShoutoutToMyEx',\n",
       "  'promoted_content': None,\n",
       "  'query': '%23ShoutoutToMyEx',\n",
       "  'tweet_volume': 442950,\n",
       "  'url': 'http://twitter.com/search?q=%23ShoutoutToMyEx'},\n",
       " {'name': '#singleparents',\n",
       "  'promoted_content': None,\n",
       "  'query': '%23singleparents',\n",
       "  'tweet_volume': None,\n",
       "  'url': 'http://twitter.com/search?q=%23singleparents'},\n",
       " {'name': '#Mosul',\n",
       "  'promoted_content': None,\n",
       "  'query': '%23Mosul',\n",
       "  'tweet_volume': 69119,\n",
       "  'url': 'http://twitter.com/search?q=%23Mosul'},\n",
       " {'name': '#dating',\n",
       "  'promoted_content': None,\n",
       "  'query': '%23dating',\n",
       "  'tweet_volume': 14363,\n",
       "  'url': 'http://twitter.com/search?q=%23dating'},\n",
       " {'name': '#STOICON16',\n",
       "  'promoted_content': None,\n",
       "  'query': '%23STOICON16',\n",
       "  'tweet_volume': None,\n",
       "  'url': 'http://twitter.com/search?q=%23STOICON16'},\n",
       " {'name': 'Find Her',\n",
       "  'promoted_content': None,\n",
       "  'query': '%22Find+Her%22',\n",
       "  'tweet_volume': None,\n",
       "  'url': 'http://twitter.com/search?q=%22Find+Her%22'},\n",
       " {'name': 'Cristiano Ronaldo',\n",
       "  'promoted_content': None,\n",
       "  'query': '%22Cristiano+Ronaldo%22',\n",
       "  'tweet_volume': 15817,\n",
       "  'url': 'http://twitter.com/search?q=%22Cristiano+Ronaldo%22'},\n",
       " {'name': 'Hans Klok',\n",
       "  'promoted_content': None,\n",
       "  'query': '%22Hans+Klok%22',\n",
       "  'tweet_volume': None,\n",
       "  'url': 'http://twitter.com/search?q=%22Hans+Klok%22'},\n",
       " {'name': 'Pierre Bokma',\n",
       "  'promoted_content': None,\n",
       "  'query': '%22Pierre+Bokma%22',\n",
       "  'tweet_volume': None,\n",
       "  'url': 'http://twitter.com/search?q=%22Pierre+Bokma%22'},\n",
       " {'name': 'Felix Rottenberg',\n",
       "  'promoted_content': None,\n",
       "  'query': '%22Felix+Rottenberg%22',\n",
       "  'tweet_volume': None,\n",
       "  'url': 'http://twitter.com/search?q=%22Felix+Rottenberg%22'},\n",
       " {'name': 'Renate Groenewold',\n",
       "  'promoted_content': None,\n",
       "  'query': '%22Renate+Groenewold%22',\n",
       "  'tweet_volume': None,\n",
       "  'url': 'http://twitter.com/search?q=%22Renate+Groenewold%22'},\n",
       " {'name': 'Kookboek',\n",
       "  'promoted_content': None,\n",
       "  'query': 'Kookboek',\n",
       "  'tweet_volume': None,\n",
       "  'url': 'http://twitter.com/search?q=Kookboek'},\n",
       " {'name': 'VfL Wolfsburg',\n",
       "  'promoted_content': None,\n",
       "  'query': '%22VfL+Wolfsburg%22',\n",
       "  'tweet_volume': None,\n",
       "  'url': 'http://twitter.com/search?q=%22VfL+Wolfsburg%22'},\n",
       " {'name': 'Artis',\n",
       "  'promoted_content': None,\n",
       "  'query': 'Artis',\n",
       "  'tweet_volume': 10527,\n",
       "  'url': 'http://twitter.com/search?q=Artis'},\n",
       " {'name': 'Staat',\n",
       "  'promoted_content': None,\n",
       "  'query': 'Staat',\n",
       "  'tweet_volume': None,\n",
       "  'url': 'http://twitter.com/search?q=Staat'},\n",
       " {'name': 'Lubach',\n",
       "  'promoted_content': None,\n",
       "  'query': 'Lubach',\n",
       "  'tweet_volume': None,\n",
       "  'url': 'http://twitter.com/search?q=Lubach'},\n",
       " {'name': 'West',\n",
       "  'promoted_content': None,\n",
       "  'query': 'West',\n",
       "  'tweet_volume': 221194,\n",
       "  'url': 'http://twitter.com/search?q=West'},\n",
       " {'name': 'Amsterdam',\n",
       "  'promoted_content': None,\n",
       "  'query': 'Amsterdam',\n",
       "  'tweet_volume': 31724,\n",
       "  'url': 'http://twitter.com/search?q=Amsterdam'},\n",
       " {'name': '#jajgra',\n",
       "  'promoted_content': None,\n",
       "  'query': '%23jajgra',\n",
       "  'tweet_volume': None,\n",
       "  'url': 'http://twitter.com/search?q=%23jajgra'},\n",
       " {'name': '#Hunted',\n",
       "  'promoted_content': None,\n",
       "  'query': '%23Hunted',\n",
       "  'tweet_volume': None,\n",
       "  'url': 'http://twitter.com/search?q=%23Hunted'},\n",
       " {'name': '#Asscher',\n",
       "  'promoted_content': None,\n",
       "  'query': '%23Asscher',\n",
       "  'tweet_volume': None,\n",
       "  'url': 'http://twitter.com/search?q=%23Asscher'},\n",
       " {'name': '#feyado',\n",
       "  'promoted_content': None,\n",
       "  'query': '%23feyado',\n",
       "  'tweet_volume': None,\n",
       "  'url': 'http://twitter.com/search?q=%23feyado'},\n",
       " {'name': '#JOANNE',\n",
       "  'promoted_content': None,\n",
       "  'query': '%23JOANNE',\n",
       "  'tweet_volume': 119376,\n",
       "  'url': 'http://twitter.com/search?q=%23JOANNE'},\n",
       " {'name': '#LIVMUN',\n",
       "  'promoted_content': None,\n",
       "  'query': '%23LIVMUN',\n",
       "  'tweet_volume': 52370,\n",
       "  'url': 'http://twitter.com/search?q=%23LIVMUN'},\n",
       " {'name': '#eenvandaag',\n",
       "  'promoted_content': None,\n",
       "  'query': '%23eenvandaag',\n",
       "  'tweet_volume': None,\n",
       "  'url': 'http://twitter.com/search?q=%23eenvandaag'},\n",
       " {'name': '#didd',\n",
       "  'promoted_content': None,\n",
       "  'query': '%23didd',\n",
       "  'tweet_volume': None,\n",
       "  'url': 'http://twitter.com/search?q=%23didd'},\n",
       " {'name': '#camhee',\n",
       "  'promoted_content': None,\n",
       "  'query': '%23camhee',\n",
       "  'tweet_volume': None,\n",
       "  'url': 'http://twitter.com/search?q=%23camhee'},\n",
       " {'name': '#gtst',\n",
       "  'promoted_content': None,\n",
       "  'query': '%23gtst',\n",
       "  'tweet_volume': None,\n",
       "  'url': 'http://twitter.com/search?q=%23gtst'},\n",
       " {'name': '#NACpraat',\n",
       "  'promoted_content': None,\n",
       "  'query': '%23NACpraat',\n",
       "  'tweet_volume': None,\n",
       "  'url': 'http://twitter.com/search?q=%23NACpraat'},\n",
       " {'name': '#DPSEPSC',\n",
       "  'promoted_content': None,\n",
       "  'query': '%23DPSEPSC',\n",
       "  'tweet_volume': None,\n",
       "  'url': 'http://twitter.com/search?q=%23DPSEPSC'},\n",
       " {'name': '#LFCvMUFC',\n",
       "  'promoted_content': None,\n",
       "  'query': '%23LFCvMUFC',\n",
       "  'tweet_volume': 39619,\n",
       "  'url': 'http://twitter.com/search?q=%23LFCvMUFC'},\n",
       " {'name': '#ThingsISayPrettyOften',\n",
       "  'promoted_content': None,\n",
       "  'query': '%23ThingsISayPrettyOften',\n",
       "  'tweet_volume': 71493,\n",
       "  'url': 'http://twitter.com/search?q=%23ThingsISayPrettyOften'},\n",
       " {'name': '#TEDxMaastricht',\n",
       "  'promoted_content': None,\n",
       "  'query': '%23TEDxMaastricht',\n",
       "  'tweet_volume': None,\n",
       "  'url': 'http://twitter.com/search?q=%23TEDxMaastricht'},\n",
       " {'name': '#twezwo',\n",
       "  'promoted_content': None,\n",
       "  'query': '%23twezwo',\n",
       "  'tweet_volume': None,\n",
       "  'url': 'http://twitter.com/search?q=%23twezwo'},\n",
       " {'name': '#StudioVoetbal',\n",
       "  'promoted_content': None,\n",
       "  'query': '%23StudioVoetbal',\n",
       "  'tweet_volume': None,\n",
       "  'url': 'http://twitter.com/search?q=%23StudioVoetbal'},\n",
       " {'name': '#dumpertmeuk',\n",
       "  'promoted_content': None,\n",
       "  'query': '%23dumpertmeuk',\n",
       "  'tweet_volume': None,\n",
       "  'url': 'http://twitter.com/search?q=%23dumpertmeuk'},\n",
       " {'name': '#wereldarmoededag',\n",
       "  'promoted_content': None,\n",
       "  'query': '%23wereldarmoededag',\n",
       "  'tweet_volume': None,\n",
       "  'url': 'http://twitter.com/search?q=%23wereldarmoededag'},\n",
       " {'name': '#PerrieExposedZaynParty',\n",
       "  'promoted_content': None,\n",
       "  'query': '%23PerrieExposedZaynParty',\n",
       "  'tweet_volume': 92932,\n",
       "  'url': 'http://twitter.com/search?q=%23PerrieExposedZaynParty'},\n",
       " {'name': '#mondaymotivation',\n",
       "  'promoted_content': None,\n",
       "  'query': '%23mondaymotivation',\n",
       "  'tweet_volume': 148775,\n",
       "  'url': 'http://twitter.com/search?q=%23mondaymotivation'},\n",
       " {'name': '#TCSAM16',\n",
       "  'promoted_content': None,\n",
       "  'query': '%23TCSAM16',\n",
       "  'tweet_volume': None,\n",
       "  'url': 'http://twitter.com/search?q=%23TCSAM16'},\n",
       " {'name': '#WorldFoodDay',\n",
       "  'promoted_content': None,\n",
       "  'query': '%23WorldFoodDay',\n",
       "  'tweet_volume': 13674,\n",
       "  'url': 'http://twitter.com/search?q=%23WorldFoodDay'},\n",
       " {'name': '#BASF',\n",
       "  'promoted_content': None,\n",
       "  'query': '%23BASF',\n",
       "  'tweet_volume': 10802,\n",
       "  'url': 'http://twitter.com/search?q=%23BASF'},\n",
       " {'name': '#WFD2016',\n",
       "  'promoted_content': None,\n",
       "  'query': '%23WFD2016',\n",
       "  'tweet_volume': None,\n",
       "  'url': 'http://twitter.com/search?q=%23WFD2016'},\n",
       " {'name': '#Hoorn',\n",
       "  'promoted_content': None,\n",
       "  'query': '%23Hoorn',\n",
       "  'tweet_volume': None,\n",
       "  'url': 'http://twitter.com/search?q=%23Hoorn'},\n",
       " {'name': '#droomlandamerika',\n",
       "  'promoted_content': None,\n",
       "  'query': '%23droomlandamerika',\n",
       "  'tweet_volume': None,\n",
       "  'url': 'http://twitter.com/search?q=%23droomlandamerika'},\n",
       " {'name': '#omarmprijs',\n",
       "  'promoted_content': None,\n",
       "  'query': '%23omarmprijs',\n",
       "  'tweet_volume': None,\n",
       "  'url': 'http://twitter.com/search?q=%23omarmprijs'}]"
      ]
     },
     "execution_count": 68,
     "metadata": {},
     "output_type": "execute_result"
    }
   ],
   "source": [
    "trends_ams[0]['trends']"
   ]
  },
  {
   "cell_type": "code",
   "execution_count": 71,
   "metadata": {
    "collapsed": false
   },
   "outputs": [
    {
     "data": {
      "text/plain": [
       "[('#ShoutoutToMyEx', 442950),\n",
       " ('#singleparents', None),\n",
       " ('#Mosul', 69119),\n",
       " ('#dating', 14363),\n",
       " ('#STOICON16', None),\n",
       " ('Find Her', None),\n",
       " ('Cristiano Ronaldo', 15817),\n",
       " ('Hans Klok', None),\n",
       " ('Pierre Bokma', None),\n",
       " ('Felix Rottenberg', None),\n",
       " ('Renate Groenewold', None),\n",
       " ('Kookboek', None),\n",
       " ('VfL Wolfsburg', None),\n",
       " ('Artis', 10527),\n",
       " ('Staat', None),\n",
       " ('Lubach', None),\n",
       " ('West', 221194),\n",
       " ('Amsterdam', 31724),\n",
       " ('#jajgra', None),\n",
       " ('#Hunted', None),\n",
       " ('#Asscher', None),\n",
       " ('#feyado', None),\n",
       " ('#JOANNE', 119376),\n",
       " ('#LIVMUN', 52370),\n",
       " ('#eenvandaag', None),\n",
       " ('#didd', None),\n",
       " ('#camhee', None),\n",
       " ('#gtst', None),\n",
       " ('#NACpraat', None),\n",
       " ('#DPSEPSC', None),\n",
       " ('#LFCvMUFC', 39619),\n",
       " ('#ThingsISayPrettyOften', 71493),\n",
       " ('#TEDxMaastricht', None),\n",
       " ('#twezwo', None),\n",
       " ('#StudioVoetbal', None),\n",
       " ('#dumpertmeuk', None),\n",
       " ('#wereldarmoededag', None),\n",
       " ('#PerrieExposedZaynParty', 92932),\n",
       " ('#mondaymotivation', 148775),\n",
       " ('#TCSAM16', None),\n",
       " ('#WorldFoodDay', 13674),\n",
       " ('#BASF', 10802),\n",
       " ('#WFD2016', None),\n",
       " ('#Hoorn', None),\n",
       " ('#droomlandamerika', None),\n",
       " ('#omarmprijs', None)]"
      ]
     },
     "execution_count": 71,
     "metadata": {},
     "output_type": "execute_result"
    }
   ],
   "source": [
    "[(t['name'], t['tweet_volume']) for t in trends_ams[0]['trends']]"
   ]
  },
  {
   "cell_type": "markdown",
   "metadata": {},
   "source": [
    "There's also a way to fetch the list without hashtags:"
   ]
  },
  {
   "cell_type": "code",
   "execution_count": 72,
   "metadata": {
    "collapsed": true
   },
   "outputs": [],
   "source": [
    "trends_ams = api.trends_place(ams['woeid'], exclude='hashtags')"
   ]
  },
  {
   "cell_type": "code",
   "execution_count": 73,
   "metadata": {
    "collapsed": false
   },
   "outputs": [
    {
     "data": {
      "text/plain": [
       "[('Find Her', None),\n",
       " ('Cristiano Ronaldo', 15817),\n",
       " ('Hans Klok', None),\n",
       " ('Pierre Bokma', None),\n",
       " ('Felix Rottenberg', None),\n",
       " ('Renate Groenewold', None),\n",
       " ('Kookboek', None),\n",
       " ('VfL Wolfsburg', None),\n",
       " ('Artis', 10527),\n",
       " ('Staat', None),\n",
       " ('Lubach', None),\n",
       " ('West', 221194),\n",
       " ('Amsterdam', 31724)]"
      ]
     },
     "execution_count": 73,
     "metadata": {},
     "output_type": "execute_result"
    }
   ],
   "source": [
    "[(t['name'], t['tweet_volume']) for t in trends_ams[0]['trends']]"
   ]
  },
  {
   "cell_type": "markdown",
   "metadata": {},
   "source": [
    "## Simplifying a bit\n",
    "\n",
    "Let's write a few functions so we don't have to write all that out each time."
   ]
  },
  {
   "cell_type": "code",
   "execution_count": 36,
   "metadata": {
    "collapsed": true
   },
   "outputs": [],
   "source": [
    "def getloc(name):\n",
    "    try:\n",
    "        return [t for t in trends_available if t['name'].lower() == name.lower()][0]\n",
    "    except:\n",
    "        return None"
   ]
  },
  {
   "cell_type": "code",
   "execution_count": 42,
   "metadata": {
    "collapsed": true
   },
   "outputs": [],
   "source": [
    "def trends(loc, exclude=False):\n",
    "    return api.trends_place(loc['woeid'], 'hashtags' if exclude else None)"
   ]
  },
  {
   "cell_type": "code",
   "execution_count": 46,
   "metadata": {
    "collapsed": true
   },
   "outputs": [],
   "source": [
    "def top(trends):\n",
    "    return sorted([(t['name'], t['tweet_volume']) for t in trends[0]['trends']], key=lambda a: a[1] or 0, reverse=True)"
   ]
  },
  {
   "cell_type": "code",
   "execution_count": 80,
   "metadata": {
    "collapsed": true
   },
   "outputs": [],
   "source": [
    "tok = getloc('tokyo')"
   ]
  },
  {
   "cell_type": "code",
   "execution_count": 81,
   "metadata": {
    "collapsed": false
   },
   "outputs": [],
   "source": [
    "trends_tok = trends(tok, True)"
   ]
  },
  {
   "cell_type": "code",
   "execution_count": 82,
   "metadata": {
    "collapsed": false,
    "scrolled": false
   },
   "outputs": [
    {
     "data": {
      "text/plain": [
       "[('センター', 95248),\n",
       " ('カインとアベル', 65728),\n",
       " ('山田くん', 34572),\n",
       " ('水曜日', 25301),\n",
       " ('雨の日', 23363),\n",
       " ('キスブサ', 16031),\n",
       " ('シュウさん', 11489),\n",
       " ('マリオンガーデン1300桑名店', None),\n",
       " ('人妻10連ガチャ', None),\n",
       " ('帯のフレーズ', None),\n",
       " ('労働時間の上限引き下げ', None),\n",
       " ('ディラン氏', None),\n",
       " ('野迫川村', None),\n",
       " ('水嶋ヒロ', None),\n",
       " ('ガッポイ', None),\n",
       " ('リトルなでしこ', None),\n",
       " ('星野源のオールナイトニッポン', None),\n",
       " ('弓弦誕生日', None),\n",
       " ('受動喫煙防止', None),\n",
       " ('鍵盤アタック', None),\n",
       " ('弓弦くん', None),\n",
       " ('黄金魂', None),\n",
       " ('法の下', None),\n",
       " ('入賞取り消し', None),\n",
       " ('最高益', None)]"
      ]
     },
     "execution_count": 82,
     "metadata": {},
     "output_type": "execute_result"
    }
   ],
   "source": [
    "top(trends_tok)"
   ]
  },
  {
   "cell_type": "code",
   "execution_count": 83,
   "metadata": {
    "collapsed": true
   },
   "outputs": [],
   "source": [
    "alg = getloc('Algeria')"
   ]
  },
  {
   "cell_type": "code",
   "execution_count": 84,
   "metadata": {
    "collapsed": true
   },
   "outputs": [],
   "source": [
    "trends_alg = trends(alg)"
   ]
  },
  {
   "cell_type": "code",
   "execution_count": 90,
   "metadata": {
    "collapsed": false
   },
   "outputs": [
    {
     "data": {
      "text/plain": [
       "[('#ShoutoutToMyEx', 444076),\n",
       " ('#افضل_مشروب_بالعالم', 26720),\n",
       " ('Julien', 21587),\n",
       " ('#تونس', 13246),\n",
       " ('#مجازر_17_اكتوبر_1961', None),\n",
       " ('Algériens', None),\n",
       " ('#امل_بوشوشه', None),\n",
       " ('Alger', None),\n",
       " ('#Ligue1', None),\n",
       " ('#JÉcoute', None),\n",
       " ('#IbtissamTiskat', None),\n",
       " ('#Syrie', None),\n",
       " ('#اكتشف_الجزاير', None),\n",
       " ('#مينو', None)]"
      ]
     },
     "execution_count": 90,
     "metadata": {},
     "output_type": "execute_result"
    }
   ],
   "source": [
    "top(trends_alg)"
   ]
  },
  {
   "cell_type": "markdown",
   "metadata": {},
   "source": [
    "Weird, there's an L-to-R issue rendering the output here:"
   ]
  },
  {
   "cell_type": "code",
   "execution_count": 92,
   "metadata": {
    "collapsed": false
   },
   "outputs": [
    {
     "data": {
      "text/plain": [
       "'#افضل_مشروب_بالعالم'"
      ]
     },
     "execution_count": 92,
     "metadata": {},
     "output_type": "execute_result"
    }
   ],
   "source": [
    "top(trends_alg)[1][0]"
   ]
  },
  {
   "cell_type": "markdown",
   "metadata": {},
   "source": [
    "Just for fun let's compare Algiers with Algeria."
   ]
  },
  {
   "cell_type": "code",
   "execution_count": 102,
   "metadata": {
    "collapsed": true
   },
   "outputs": [],
   "source": [
    "algs = getloc('Algiers')"
   ]
  },
  {
   "cell_type": "code",
   "execution_count": 103,
   "metadata": {
    "collapsed": true
   },
   "outputs": [],
   "source": [
    "trends_algs = trends(algs)"
   ]
  },
  {
   "cell_type": "code",
   "execution_count": 104,
   "metadata": {
    "collapsed": false
   },
   "outputs": [
    {
     "data": {
      "text/plain": [
       "[('#ShoutoutToMyEx', 444634),\n",
       " ('#افضل_مشروب_بالعالم', 27576),\n",
       " ('Julien', 21806),\n",
       " ('#تونس', 13314),\n",
       " ('#مجازر_17_اكتوبر_1961', None),\n",
       " ('Algériens', None),\n",
       " ('#امل_بوشوشه', None),\n",
       " ('Alger', None),\n",
       " ('#Ligue1', None),\n",
       " ('#JÉcoute', None),\n",
       " ('#IbtissamTiskat', None),\n",
       " ('#Syrie', None),\n",
       " ('#اكتشف_الجزاير', None),\n",
       " ('#مينو', None)]"
      ]
     },
     "execution_count": 104,
     "metadata": {},
     "output_type": "execute_result"
    }
   ],
   "source": [
    "top(trends_algs)"
   ]
  },
  {
   "cell_type": "markdown",
   "metadata": {},
   "source": [
    "Very similar.  How about Chicago vs Miami?"
   ]
  },
  {
   "cell_type": "code",
   "execution_count": 119,
   "metadata": {
    "collapsed": true
   },
   "outputs": [],
   "source": [
    "chi = getloc('Chicago')"
   ]
  },
  {
   "cell_type": "code",
   "execution_count": 112,
   "metadata": {
    "collapsed": true
   },
   "outputs": [],
   "source": [
    "trends_chi = trends(chi)"
   ]
  },
  {
   "cell_type": "code",
   "execution_count": 114,
   "metadata": {
    "collapsed": false
   },
   "outputs": [
    {
     "data": {
      "text/plain": [
       "{'country': 'United States',\n",
       " 'countryCode': 'US',\n",
       " 'name': 'Chicago',\n",
       " 'parentid': 23424977,\n",
       " 'placeType': {'code': 7, 'name': 'Town'},\n",
       " 'url': 'http://where.yahooapis.com/v1/place/2379574',\n",
       " 'woeid': 2379574}"
      ]
     },
     "execution_count": 114,
     "metadata": {},
     "output_type": "execute_result"
    }
   ],
   "source": [
    "chi"
   ]
  },
  {
   "cell_type": "code",
   "execution_count": 115,
   "metadata": {
    "collapsed": false
   },
   "outputs": [
    {
     "data": {
      "text/plain": [
       "[('Liverpool', 249610),\n",
       " ('#FreeJulian', 188500),\n",
       " ('Joanne', 168900),\n",
       " ('#mondaymotivation', 151709),\n",
       " ('Manchester United', 90762),\n",
       " ('Nicki', 81258),\n",
       " ('Anfield', 68510),\n",
       " ('Bears', 58819),\n",
       " ('Trump TV', 36360),\n",
       " ('#HTTR', 32578)]"
      ]
     },
     "execution_count": 115,
     "metadata": {},
     "output_type": "execute_result"
    }
   ],
   "source": [
    "top(trends_chi)[:10]"
   ]
  },
  {
   "cell_type": "code",
   "execution_count": 120,
   "metadata": {
    "collapsed": true
   },
   "outputs": [],
   "source": [
    "mia = getloc('Miami')"
   ]
  },
  {
   "cell_type": "code",
   "execution_count": 121,
   "metadata": {
    "collapsed": false
   },
   "outputs": [
    {
     "data": {
      "text/plain": [
       "{'country': 'United States',\n",
       " 'countryCode': 'US',\n",
       " 'name': 'Miami',\n",
       " 'parentid': 23424977,\n",
       " 'placeType': {'code': 7, 'name': 'Town'},\n",
       " 'url': 'http://where.yahooapis.com/v1/place/2450022',\n",
       " 'woeid': 2450022}"
      ]
     },
     "execution_count": 121,
     "metadata": {},
     "output_type": "execute_result"
    }
   ],
   "source": [
    "mia"
   ]
  },
  {
   "cell_type": "code",
   "execution_count": 122,
   "metadata": {
    "collapsed": true
   },
   "outputs": [],
   "source": [
    "trends_mia = trends(mia)"
   ]
  },
  {
   "cell_type": "code",
   "execution_count": 123,
   "metadata": {
    "collapsed": false
   },
   "outputs": [
    {
     "data": {
      "text/plain": [
       "[('Halloween', 445189),\n",
       " ('Liverpool', 249610),\n",
       " ('#FreeJulian', 188500),\n",
       " ('Joanne', 168900),\n",
       " ('#mondaymotivation', 151709),\n",
       " ('iPhone 7', 97610),\n",
       " ('Manchester United', 90762),\n",
       " ('Anfield', 68510),\n",
       " ('Dolphins', 37166),\n",
       " ('Trump TV', 36360)]"
      ]
     },
     "execution_count": 123,
     "metadata": {},
     "output_type": "execute_result"
    }
   ],
   "source": [
    "top(trends_mia)[:10]"
   ]
  },
  {
   "cell_type": "code",
   "execution_count": 124,
   "metadata": {
    "collapsed": true
   },
   "outputs": [],
   "source": [
    "world = getloc('Worldwide')"
   ]
  },
  {
   "cell_type": "code",
   "execution_count": 125,
   "metadata": {
    "collapsed": true
   },
   "outputs": [],
   "source": [
    "trends_world = trends(world)"
   ]
  },
  {
   "cell_type": "code",
   "execution_count": 127,
   "metadata": {
    "collapsed": false
   },
   "outputs": [
    {
     "data": {
      "text/plain": [
       "[('#Joanne', 124283),\n",
       " ('#تيم_القمه_والفولورز_بالحب', 121628),\n",
       " ('#زد_رصيدك2', 83068),\n",
       " ('#LIVMUN', 69867),\n",
       " ('BELIEBERS UNIDOS', 54083),\n",
       " ('#كم_عندك_مشاهده_في_السناب', 53986),\n",
       " ('#اوصف_السعودي_بكلمه', 50079),\n",
       " ('Trump TV', 36682),\n",
       " ('#اعفوا_وزير_الاتصالات', 36680),\n",
       " ('#OneDitection', 29790),\n",
       " ('#PuebloDignificado', 29260),\n",
       " ('#افضل_مشروب_بالعالم', 28907),\n",
       " ('#MovieTitleToDescribeElection', 26682),\n",
       " ('George Zimmerman', 25160),\n",
       " ('#DiaDeLaLealtadPeronista', 24999),\n",
       " ('#NationalPastaDay', 24037),\n",
       " ('#MakeMeHateYouInOnePhrase', 23068),\n",
       " ('#içerdeyim', 22923),\n",
       " ('#PAKvWI', 21320),\n",
       " ('#727TourParis', 20466),\n",
       " ('#PraVidaFicarBoaSóFalta', 18914),\n",
       " ('#كلنا_ضد_الحب', 18626),\n",
       " ('#EdirnedenMusulaYeniTürkiye', 16482),\n",
       " ('#ليفربول_مانشستر', 16291),\n",
       " ('#GBHeroesMCR', 16199)]"
      ]
     },
     "execution_count": 127,
     "metadata": {},
     "output_type": "execute_result"
    }
   ],
   "source": [
    "top(trends_world)[:25]"
   ]
  },
  {
   "cell_type": "markdown",
   "metadata": {},
   "source": [
    "## Looking nearby\n",
    "\n",
    "There are specific javascript calls for fetching a user's geolocation through a browser (see [Using Geolocation via MDN](https://developer.mozilla.org/en-US/docs/Web/API/Geolocation/Using_geolocation)).  With a tool like that in place, you could fetch the user's lat and long and send it to the `trends/closest` Twitter API call:"
   ]
  },
  {
   "cell_type": "code",
   "execution_count": 95,
   "metadata": {
    "collapsed": true
   },
   "outputs": [],
   "source": [
    "closeby = api.trends_closest(38.8860307, -76.9931073)"
   ]
  },
  {
   "cell_type": "code",
   "execution_count": 99,
   "metadata": {
    "collapsed": false
   },
   "outputs": [
    {
     "data": {
      "text/plain": [
       "{'country': 'United States',\n",
       " 'countryCode': 'US',\n",
       " 'name': 'Washington',\n",
       " 'parentid': 23424977,\n",
       " 'placeType': {'code': 7, 'name': 'Town'},\n",
       " 'url': 'http://where.yahooapis.com/v1/place/2514815',\n",
       " 'woeid': 2514815}"
      ]
     },
     "execution_count": 99,
     "metadata": {},
     "output_type": "execute_result"
    }
   ],
   "source": [
    "closeby[0]"
   ]
  },
  {
   "cell_type": "code",
   "execution_count": 101,
   "metadata": {
    "collapsed": false
   },
   "outputs": [
    {
     "data": {
      "text/plain": [
       "[('#FreeJulian', 187560),\n",
       " ('Joanne', 170150),\n",
       " ('#mondaymotivation', 151088),\n",
       " ('Odell', 148579),\n",
       " ('Eagles', 92264),\n",
       " ('#CowboysNation', 76418),\n",
       " ('Anfield', 65707),\n",
       " ('#LIVMUN', 62369),\n",
       " ('Aaron Rodgers', 50620),\n",
       " ('Nicki Minaj', 48791),\n",
       " ('#HTTR', 36891),\n",
       " ('Trump TV', 35964),\n",
       " ('Amy Goodman', 30901),\n",
       " ('#MovieTitleToDescribeElection', 26327),\n",
       " ('#SurvivingCompton', 24847),\n",
       " ('George Zimmerman', 24318),\n",
       " ('#NationalPastaDay', 23299),\n",
       " ('#MakeMeHateYouInOnePhrase', 22344),\n",
       " ('Azealia Banks', 20716),\n",
       " ('#PAKvWI', 20481),\n",
       " ('Amy Schumer', 16811),\n",
       " ('#FreeGsuHomecomingParty', 15987),\n",
       " ('To the First Lady', None),\n",
       " ('Shepard Smith', None),\n",
       " ('Come to Mama', None),\n",
       " ('I Gotta Ask', None),\n",
       " ('Pray 4 Me', None),\n",
       " ('Leonard Fournette', None),\n",
       " ('Mauritania', None),\n",
       " ('Head of U.S.', None),\n",
       " ('Adam Powell', None),\n",
       " ('Bob Cousy Award', None),\n",
       " ('#MyFirstCarIn3Words', None),\n",
       " ('#Under30Summit', None),\n",
       " ('#MusicMonday', None),\n",
       " ('#LArain', None),\n",
       " ('#jbfconf2016', None),\n",
       " ('#BossDay', None),\n",
       " ('#NIKEMAG', None),\n",
       " ('#DPSEPSC', None),\n",
       " ('#congratsliam', None),\n",
       " ('#JunkinsFire', None),\n",
       " ('#heweb16', None),\n",
       " ('#hatersbackofflivestream', None),\n",
       " ('#JaneTheVirgin', None),\n",
       " ('#CookingSchmovies', None),\n",
       " ('#FintechU', None),\n",
       " ('#AmberAlert', None),\n",
       " ('#KevinCanWait', None),\n",
       " ('#My5WordHorrorNovel', None)]"
      ]
     },
     "execution_count": 101,
     "metadata": {},
     "output_type": "execute_result"
    }
   ],
   "source": [
    "top(trends(closeby[0]))"
   ]
  },
  {
   "cell_type": "markdown",
   "metadata": {},
   "source": [
    "Hmm, that `parentid` attribute might be useful."
   ]
  },
  {
   "cell_type": "code",
   "execution_count": 135,
   "metadata": {
    "collapsed": false
   },
   "outputs": [
    {
     "data": {
      "text/plain": [
       "['Albuquerque',\n",
       " 'Atlanta',\n",
       " 'Austin',\n",
       " 'Baltimore',\n",
       " 'Baton Rouge',\n",
       " 'Birmingham',\n",
       " 'Boston',\n",
       " 'Charlotte',\n",
       " 'Chicago',\n",
       " 'Cincinnati',\n",
       " 'Cleveland',\n",
       " 'Colorado Springs',\n",
       " 'Columbus',\n",
       " 'Dallas-Ft. Worth',\n",
       " 'Denver',\n",
       " 'Detroit',\n",
       " 'El Paso',\n",
       " 'Fresno',\n",
       " 'Greensboro',\n",
       " 'Harrisburg',\n",
       " 'Honolulu',\n",
       " 'Houston',\n",
       " 'Indianapolis',\n",
       " 'Jackson',\n",
       " 'Jacksonville',\n",
       " 'Kansas City',\n",
       " 'Las Vegas',\n",
       " 'Long Beach',\n",
       " 'Los Angeles',\n",
       " 'Louisville',\n",
       " 'Memphis',\n",
       " 'Mesa',\n",
       " 'Miami',\n",
       " 'Milwaukee',\n",
       " 'Minneapolis',\n",
       " 'Nashville',\n",
       " 'New Haven',\n",
       " 'New Orleans',\n",
       " 'New York',\n",
       " 'Norfolk',\n",
       " 'Oklahoma City',\n",
       " 'Omaha',\n",
       " 'Orlando',\n",
       " 'Philadelphia',\n",
       " 'Phoenix',\n",
       " 'Pittsburgh',\n",
       " 'Portland',\n",
       " 'Providence',\n",
       " 'Raleigh',\n",
       " 'Richmond',\n",
       " 'Sacramento',\n",
       " 'St. Louis',\n",
       " 'Salt Lake City',\n",
       " 'San Antonio',\n",
       " 'San Diego',\n",
       " 'San Francisco',\n",
       " 'San Jose',\n",
       " 'Seattle',\n",
       " 'Tallahassee',\n",
       " 'Tampa',\n",
       " 'Tucson',\n",
       " 'Virginia Beach',\n",
       " 'Washington']"
      ]
     },
     "execution_count": 135,
     "metadata": {},
     "output_type": "execute_result"
    }
   ],
   "source": [
    "[t['name'] for t in trends_available if t['parentid'] == 23424977]"
   ]
  },
  {
   "cell_type": "code",
   "execution_count": 130,
   "metadata": {
    "collapsed": false
   },
   "outputs": [
    {
     "data": {
      "text/plain": [
       "['United Arab Emirates',\n",
       " 'Algeria',\n",
       " 'Argentina',\n",
       " 'Australia',\n",
       " 'Austria',\n",
       " 'Bahrain',\n",
       " 'Belgium',\n",
       " 'Belarus',\n",
       " 'Brazil',\n",
       " 'Canada',\n",
       " 'Chile',\n",
       " 'Colombia',\n",
       " 'Denmark',\n",
       " 'Dominican Republic',\n",
       " 'Ecuador',\n",
       " 'Egypt',\n",
       " 'Ireland',\n",
       " 'France',\n",
       " 'Ghana',\n",
       " 'Germany',\n",
       " 'Greece',\n",
       " 'Guatemala',\n",
       " 'Indonesia',\n",
       " 'India',\n",
       " 'Israel',\n",
       " 'Italy',\n",
       " 'Japan',\n",
       " 'Jordan',\n",
       " 'Kenya',\n",
       " 'Korea',\n",
       " 'Kuwait',\n",
       " 'Lebanon',\n",
       " 'Latvia',\n",
       " 'Oman',\n",
       " 'Mexico',\n",
       " 'Malaysia',\n",
       " 'Nigeria',\n",
       " 'Netherlands',\n",
       " 'Norway',\n",
       " 'New Zealand',\n",
       " 'Peru',\n",
       " 'Pakistan',\n",
       " 'Poland',\n",
       " 'Panama',\n",
       " 'Portugal',\n",
       " 'Qatar',\n",
       " 'Philippines',\n",
       " 'Puerto Rico',\n",
       " 'Russia',\n",
       " 'Saudi Arabia',\n",
       " 'South Africa',\n",
       " 'Singapore',\n",
       " 'Spain',\n",
       " 'Sweden',\n",
       " 'Switzerland',\n",
       " 'Thailand',\n",
       " 'Turkey',\n",
       " 'United Kingdom',\n",
       " 'Ukraine',\n",
       " 'United States',\n",
       " 'Venezuela',\n",
       " 'Vietnam']"
      ]
     },
     "execution_count": 130,
     "metadata": {},
     "output_type": "execute_result"
    }
   ],
   "source": [
    "[t['name'] for t in trends_available if t['parentid'] == world['woeid']]"
   ]
  },
  {
   "cell_type": "markdown",
   "metadata": {},
   "source": [
    "No Liechtenstein? Georgia? Belize?  Hmm."
   ]
  },
  {
   "cell_type": "markdown",
   "metadata": {},
   "source": [
    "## Thoughts on rate limits\n",
    "\n",
    "The Twitter API calls have the following rate limits (as of October 17, 2016):\n",
    "\n",
    " * `GET trends/available` - 15/15 min\n",
    " * `GET trends/place` - 15/15 min\n",
    " * `GET trends/closest` - 15/15 min\n",
    "\n",
    "The key issue here is `trends/place`.  `trends/available` probably doesn't change very often.  `trends/closest` would only vary if the user is on the move, and even then, only slowly.  But to track trends at more than one level on a minute-over-minute basis would simply not be possible because we are limited to one call per minute on `trends/place`.  \n",
    "\n",
    "Practically speaking, we could do:\n",
    " \n",
    " * every minute for one place\n",
    " * every two-plus-a-fraction minutes for two places \n",
    " * every four minutes for three places\n",
    " \n",
    "Given the practicality of setting things up and allowing a little buffer, it probably makes sense to check three places every five minutes.  The default scenario could be check (worldwide, country, closest place).  A config parameter could figure this out for you if set by default, or a little UI element could help choose places.  For example, if a continuing event users wanted to track occurred in Omaha, you could have an option to switch one of the ongoing trend trackers to get Omaha every five minutes, or to turn off all the defaults and fetch trends for Omaha once every minute."
   ]
  }
 ],
 "metadata": {
  "anaconda-cloud": {},
  "kernelspec": {
   "display_name": "Python [default]",
   "language": "python",
   "name": "python3"
  },
  "language_info": {
   "codemirror_mode": {
    "name": "ipython",
    "version": 3
   },
   "file_extension": ".py",
   "mimetype": "text/x-python",
   "name": "python",
   "nbconvert_exporter": "python",
   "pygments_lexer": "ipython3",
   "version": "3.5.2"
  }
 },
 "nbformat": 4,
 "nbformat_minor": 1
}
